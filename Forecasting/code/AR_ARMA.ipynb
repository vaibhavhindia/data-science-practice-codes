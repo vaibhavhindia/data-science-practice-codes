{
 "cells": [
  {
   "cell_type": "markdown",
   "metadata": {},
   "source": [
    " "
   ]
  },
  {
   "cell_type": "markdown",
   "metadata": {},
   "source": [
    "## Importing the relevant packages\n"
   ]
  },
  {
   "cell_type": "code",
   "execution_count": 1,
   "metadata": {},
   "outputs": [],
   "source": [
    "import pandas as pd\n",
    "import numpy as np\n",
    "import matplotlib.pyplot as plt\n",
    "import warnings\n",
    "\n",
    "import seaborn as sns\n",
    "sns.set()\n",
    "warnings.filterwarnings('ignore')"
   ]
  },
  {
   "cell_type": "markdown",
   "metadata": {},
   "source": [
    " "
   ]
  },
  {
   "cell_type": "markdown",
   "metadata": {},
   "source": [
    "## Importing the Data and Pre-processing "
   ]
  },
  {
   "cell_type": "code",
   "execution_count": 2,
   "metadata": {},
   "outputs": [],
   "source": [
    "raw_csv_data = pd.read_csv(\"Index2018.csv\") "
   ]
  },
  {
   "cell_type": "code",
   "execution_count": 3,
   "metadata": {},
   "outputs": [
    {
     "data": {
      "text/html": [
       "<div>\n",
       "<style scoped>\n",
       "    .dataframe tbody tr th:only-of-type {\n",
       "        vertical-align: middle;\n",
       "    }\n",
       "\n",
       "    .dataframe tbody tr th {\n",
       "        vertical-align: top;\n",
       "    }\n",
       "\n",
       "    .dataframe thead th {\n",
       "        text-align: right;\n",
       "    }\n",
       "</style>\n",
       "<table border=\"1\" class=\"dataframe\">\n",
       "  <thead>\n",
       "    <tr style=\"text-align: right;\">\n",
       "      <th></th>\n",
       "      <th>date</th>\n",
       "      <th>spx</th>\n",
       "      <th>dax</th>\n",
       "      <th>ftse</th>\n",
       "      <th>nikkei</th>\n",
       "    </tr>\n",
       "  </thead>\n",
       "  <tbody>\n",
       "    <tr>\n",
       "      <th>0</th>\n",
       "      <td>07/01/1994</td>\n",
       "      <td>469.90</td>\n",
       "      <td>2224.95</td>\n",
       "      <td>3445.98</td>\n",
       "      <td>18124.01</td>\n",
       "    </tr>\n",
       "    <tr>\n",
       "      <th>1</th>\n",
       "      <td>10/01/1994</td>\n",
       "      <td>475.27</td>\n",
       "      <td>2225.00</td>\n",
       "      <td>3440.58</td>\n",
       "      <td>18443.44</td>\n",
       "    </tr>\n",
       "    <tr>\n",
       "      <th>2</th>\n",
       "      <td>11/01/1994</td>\n",
       "      <td>474.13</td>\n",
       "      <td>2228.10</td>\n",
       "      <td>3413.77</td>\n",
       "      <td>18485.25</td>\n",
       "    </tr>\n",
       "    <tr>\n",
       "      <th>3</th>\n",
       "      <td>12/01/1994</td>\n",
       "      <td>474.17</td>\n",
       "      <td>2182.06</td>\n",
       "      <td>3372.02</td>\n",
       "      <td>18793.88</td>\n",
       "    </tr>\n",
       "    <tr>\n",
       "      <th>4</th>\n",
       "      <td>13/01/1994</td>\n",
       "      <td>472.47</td>\n",
       "      <td>2142.37</td>\n",
       "      <td>3360.01</td>\n",
       "      <td>18577.26</td>\n",
       "    </tr>\n",
       "  </tbody>\n",
       "</table>\n",
       "</div>"
      ],
      "text/plain": [
       "         date     spx      dax     ftse    nikkei\n",
       "0  07/01/1994  469.90  2224.95  3445.98  18124.01\n",
       "1  10/01/1994  475.27  2225.00  3440.58  18443.44\n",
       "2  11/01/1994  474.13  2228.10  3413.77  18485.25\n",
       "3  12/01/1994  474.17  2182.06  3372.02  18793.88\n",
       "4  13/01/1994  472.47  2142.37  3360.01  18577.26"
      ]
     },
     "execution_count": 3,
     "metadata": {},
     "output_type": "execute_result"
    }
   ],
   "source": [
    "df_comp=raw_csv_data.copy()\n",
    "df_comp.head()"
   ]
  },
  {
   "cell_type": "code",
   "execution_count": 4,
   "metadata": {},
   "outputs": [],
   "source": [
    "df_comp.date = pd.to_datetime(df_comp.date, dayfirst = True)\n",
    "df_comp.set_index(\"date\", inplace=True)\n",
    "df_comp=df_comp.asfreq('b')\n",
    "df_comp=df_comp.fillna(method='ffill')\n",
    "\n",
    "\n",
    "size = int(len(df_comp)*0.8)\n",
    "df, df_test = df_comp.iloc[:size], df_comp.iloc[size:]\n",
    "df['market_value']=df_comp.ftse\n",
    "df.market_value.pct_change(1)\n",
    "del df_comp['spx']\n",
    "del df_comp['dax']\n",
    "del df_comp['ftse']\n",
    "del df_comp['nikkei']\n",
    "\n",
    "df['returns'] = df.market_value.pct_change(1).mul(100)\n",
    "df = df.iloc[1:]"
   ]
  },
  {
   "cell_type": "code",
   "execution_count": 33,
   "metadata": {},
   "outputs": [
    {
     "data": {
      "text/plain": [
       "date\n",
       "1994-01-11   -0.779229\n",
       "1994-01-12   -1.222988\n",
       "1994-01-13   -0.356166\n",
       "1994-01-14    1.206842\n",
       "1994-01-17    0.213788\n",
       "1994-01-18    0.856263\n",
       "1994-01-19    1.109685\n",
       "1994-01-20   -0.148483\n",
       "1994-01-21    0.409799\n",
       "1994-01-24   -0.080076\n",
       "Freq: B, Name: returns, dtype: float64"
      ]
     },
     "execution_count": 33,
     "metadata": {},
     "output_type": "execute_result"
    }
   ],
   "source": [
    "df['returns'].head(10)"
   ]
  },
  {
   "cell_type": "markdown",
   "metadata": {},
   "source": [
    " "
   ]
  },
  {
   "cell_type": "markdown",
   "metadata": {},
   "source": [
    " "
   ]
  },
  {
   "cell_type": "markdown",
   "metadata": {},
   "source": [
    "## The DF-Test\n",
    "Test for stationarity"
   ]
  },
  {
   "cell_type": "code",
   "execution_count": 6,
   "metadata": {},
   "outputs": [],
   "source": [
    "from scipy.stats.distributions import chi2\n",
    "import statsmodels.tsa.stattools as sts "
   ]
  },
  {
   "cell_type": "code",
   "execution_count": 7,
   "metadata": {},
   "outputs": [],
   "source": [
    "df['returns'] = df.market_value.pct_change(1).mul(100)\n",
    "df = df.iloc[1:]"
   ]
  },
  {
   "cell_type": "code",
   "execution_count": 8,
   "metadata": {},
   "outputs": [
    {
     "data": {
      "text/plain": [
       "(-12.790332603910002,\n",
       " 7.099523586679614e-24,\n",
       " 32,\n",
       " 4986,\n",
       " {'1%': -3.43166220814716,\n",
       "  '5%': -2.862119853748156,\n",
       "  '10%': -2.567078656914853},\n",
       " 15690.778602127364)"
      ]
     },
     "execution_count": 8,
     "metadata": {},
     "output_type": "execute_result"
    }
   ],
   "source": [
    "sts.adfuller(df.returns)"
   ]
  },
  {
   "cell_type": "markdown",
   "metadata": {},
   "source": [
    "# LLR"
   ]
  },
  {
   "cell_type": "code",
   "execution_count": 9,
   "metadata": {},
   "outputs": [],
   "source": [
    "def LLR_test(mod_1, mod_2, DF=1):\n",
    "    L1 = mod_1.fit().llf\n",
    "    L2 = mod_2.fit().llf\n",
    "    LR = (2*(L2-L1))\n",
    "    p = chi2.sf(LR, DF).round(3)\n",
    "    return p"
   ]
  },
  {
   "cell_type": "markdown",
   "metadata": {},
   "source": [
    "## ACF and PACF for Returns"
   ]
  },
  {
   "cell_type": "code",
   "execution_count": 10,
   "metadata": {},
   "outputs": [],
   "source": [
    "import statsmodels.graphics.tsaplots as sgt"
   ]
  },
  {
   "cell_type": "code",
   "execution_count": 11,
   "metadata": {},
   "outputs": [
    {
     "data": {
      "image/png": "[encoded data removed]",
      "text/plain": [
       "<Figure size 432x288 with 1 Axes>"
      ]
     },
     "metadata": {},
     "output_type": "display_data"
    }
   ],
   "source": [
    "sgt.plot_acf(df.returns, lags=40, zero = False)\n",
    "plt.title(\"ACF Returns\", size=24)\n",
    "plt.show()"
   ]
  },
  {
   "cell_type": "code",
   "execution_count": 12,
   "metadata": {},
   "outputs": [
    {
     "data": {
      "image/png": "[encoded data removed]",
      "text/plain": [
       "<Figure size 432x288 with 1 Axes>"
      ]
     },
     "metadata": {},
     "output_type": "display_data"
    }
   ],
   "source": [
    "sgt.plot_pacf(df.returns, lags = 40, zero = False, method = ('ols'))\n",
    "plt.title(\"PACF  Returns\", size=24)\n",
    "plt.show()"
   ]
  },
  {
   "cell_type": "code",
   "execution_count": 13,
   "metadata": {},
   "outputs": [],
   "source": [
    "from statsmodels.tsa.arima_model import ARMA"
   ]
  },
  {
   "cell_type": "markdown",
   "metadata": {},
   "source": [
    "## AR(1) for Returns"
   ]
  },
  {
   "cell_type": "code",
   "execution_count": 14,
   "metadata": {},
   "outputs": [],
   "source": [
    "model_ar1 = ARMA(df.returns, order = (1,0))"
   ]
  },
  {
   "cell_type": "code",
   "execution_count": 15,
   "metadata": {},
   "outputs": [],
   "source": [
    "results_ar1 = model_ar1.fit()"
   ]
  },
  {
   "cell_type": "code",
   "execution_count": 16,
   "metadata": {},
   "outputs": [
    {
     "data": {
      "text/html": [
       "<table class=\"simpletable\">\n",
       "<caption>ARMA Model Results</caption>\n",
       "<tr>\n",
       "  <th>Dep. Variable:</th>      <td>returns</td>     <th>  No. Observations:  </th>   <td>5019</td>   \n",
       "</tr>\n",
       "<tr>\n",
       "  <th>Model:</th>            <td>ARMA(1, 0)</td>    <th>  Log Likelihood     </th> <td>-7928.655</td>\n",
       "</tr>\n",
       "<tr>\n",
       "  <th>Method:</th>             <td>css-mle</td>     <th>  S.D. of innovations</th>   <td>1.174</td>  \n",
       "</tr>\n",
       "<tr>\n",
       "  <th>Date:</th>          <td>Fri, 07 Jan 2022</td> <th>  AIC                </th> <td>15863.311</td>\n",
       "</tr>\n",
       "<tr>\n",
       "  <th>Time:</th>              <td>18:29:23</td>     <th>  BIC                </th> <td>15882.874</td>\n",
       "</tr>\n",
       "<tr>\n",
       "  <th>Sample:</th>           <td>01-11-1994</td>    <th>  HQIC               </th> <td>15870.166</td>\n",
       "</tr>\n",
       "<tr>\n",
       "  <th></th>                 <td>- 04-05-2013</td>   <th>                     </th>     <td> </td>    \n",
       "</tr>\n",
       "</table>\n",
       "<table class=\"simpletable\">\n",
       "<tr>\n",
       "        <td></td>           <th>coef</th>     <th>std err</th>      <th>z</th>      <th>P>|z|</th>  <th>[0.025</th>    <th>0.975]</th>  \n",
       "</tr>\n",
       "<tr>\n",
       "  <th>const</th>         <td>    0.0188</td> <td>    0.016</td> <td>    1.161</td> <td> 0.246</td> <td>   -0.013</td> <td>    0.051</td>\n",
       "</tr>\n",
       "<tr>\n",
       "  <th>ar.L1.returns</th> <td>   -0.0230</td> <td>    0.014</td> <td>   -1.633</td> <td> 0.103</td> <td>   -0.051</td> <td>    0.005</td>\n",
       "</tr>\n",
       "</table>\n",
       "<table class=\"simpletable\">\n",
       "<caption>Roots</caption>\n",
       "<tr>\n",
       "    <td></td>   <th>            Real</th>  <th>         Imaginary</th> <th>         Modulus</th>  <th>        Frequency</th>\n",
       "</tr>\n",
       "<tr>\n",
       "  <th>AR.1</th> <td>         -43.3965</td> <td>          +0.0000j</td> <td>          43.3965</td> <td>           0.5000</td>\n",
       "</tr>\n",
       "</table>"
      ],
      "text/plain": [
       "<class 'statsmodels.iolib.summary.Summary'>\n",
       "\"\"\"\n",
       "                              ARMA Model Results                              \n",
       "==============================================================================\n",
       "Dep. Variable:                returns   No. Observations:                 5019\n",
       "Model:                     ARMA(1, 0)   Log Likelihood               -7928.655\n",
       "Method:                       css-mle   S.D. of innovations              1.174\n",
       "Date:                Fri, 07 Jan 2022   AIC                          15863.311\n",
       "Time:                        18:29:23   BIC                          15882.874\n",
       "Sample:                    01-11-1994   HQIC                         15870.166\n",
       "                         - 04-05-2013                                         \n",
       "=================================================================================\n",
       "                    coef    std err          z      P>|z|      [0.025      0.975]\n",
       "---------------------------------------------------------------------------------\n",
       "const             0.0188      0.016      1.161      0.246      -0.013       0.051\n",
       "ar.L1.returns    -0.0230      0.014     -1.633      0.103      -0.051       0.005\n",
       "                                    Roots                                    \n",
       "=============================================================================\n",
       "                  Real          Imaginary           Modulus         Frequency\n",
       "-----------------------------------------------------------------------------\n",
       "AR.1          -43.3965           +0.0000j           43.3965            0.5000\n",
       "-----------------------------------------------------------------------------\n",
       "\"\"\""
      ]
     },
     "execution_count": 16,
     "metadata": {},
     "output_type": "execute_result"
    }
   ],
   "source": [
    "results_ar1.summary()"
   ]
  },
  {
   "cell_type": "markdown",
   "metadata": {},
   "source": [
    "## Higher-Lag AR Models for Returns"
   ]
  },
  {
   "cell_type": "code",
   "execution_count": 17,
   "metadata": {},
   "outputs": [
    {
     "data": {
      "text/html": [
       "<table class=\"simpletable\">\n",
       "<caption>ARMA Model Results</caption>\n",
       "<tr>\n",
       "  <th>Dep. Variable:</th>      <td>returns</td>     <th>  No. Observations:  </th>   <td>5019</td>   \n",
       "</tr>\n",
       "<tr>\n",
       "  <th>Model:</th>            <td>ARMA(2, 0)</td>    <th>  Log Likelihood     </th> <td>-7922.353</td>\n",
       "</tr>\n",
       "<tr>\n",
       "  <th>Method:</th>             <td>css-mle</td>     <th>  S.D. of innovations</th>   <td>1.173</td>  \n",
       "</tr>\n",
       "<tr>\n",
       "  <th>Date:</th>          <td>Fri, 07 Jan 2022</td> <th>  AIC                </th> <td>15852.707</td>\n",
       "</tr>\n",
       "<tr>\n",
       "  <th>Time:</th>              <td>18:29:23</td>     <th>  BIC                </th> <td>15878.790</td>\n",
       "</tr>\n",
       "<tr>\n",
       "  <th>Sample:</th>           <td>01-11-1994</td>    <th>  HQIC               </th> <td>15861.847</td>\n",
       "</tr>\n",
       "<tr>\n",
       "  <th></th>                 <td>- 04-05-2013</td>   <th>                     </th>     <td> </td>    \n",
       "</tr>\n",
       "</table>\n",
       "<table class=\"simpletable\">\n",
       "<tr>\n",
       "        <td></td>           <th>coef</th>     <th>std err</th>      <th>z</th>      <th>P>|z|</th>  <th>[0.025</th>    <th>0.975]</th>  \n",
       "</tr>\n",
       "<tr>\n",
       "  <th>const</th>         <td>    0.0189</td> <td>    0.015</td> <td>    1.223</td> <td> 0.221</td> <td>   -0.011</td> <td>    0.049</td>\n",
       "</tr>\n",
       "<tr>\n",
       "  <th>ar.L1.returns</th> <td>   -0.0242</td> <td>    0.014</td> <td>   -1.718</td> <td> 0.086</td> <td>   -0.052</td> <td>    0.003</td>\n",
       "</tr>\n",
       "<tr>\n",
       "  <th>ar.L2.returns</th> <td>   -0.0501</td> <td>    0.014</td> <td>   -3.552</td> <td> 0.000</td> <td>   -0.078</td> <td>   -0.022</td>\n",
       "</tr>\n",
       "</table>\n",
       "<table class=\"simpletable\">\n",
       "<caption>Roots</caption>\n",
       "<tr>\n",
       "    <td></td>   <th>            Real</th>  <th>         Imaginary</th> <th>         Modulus</th>  <th>        Frequency</th>\n",
       "</tr>\n",
       "<tr>\n",
       "  <th>AR.1</th> <td>          -0.2417</td> <td>          -4.4614j</td> <td>           4.4680</td> <td>          -0.2586</td>\n",
       "</tr>\n",
       "<tr>\n",
       "  <th>AR.2</th> <td>          -0.2417</td> <td>          +4.4614j</td> <td>           4.4680</td> <td>           0.2586</td>\n",
       "</tr>\n",
       "</table>"
      ],
      "text/plain": [
       "<class 'statsmodels.iolib.summary.Summary'>\n",
       "\"\"\"\n",
       "                              ARMA Model Results                              \n",
       "==============================================================================\n",
       "Dep. Variable:                returns   No. Observations:                 5019\n",
       "Model:                     ARMA(2, 0)   Log Likelihood               -7922.353\n",
       "Method:                       css-mle   S.D. of innovations              1.173\n",
       "Date:                Fri, 07 Jan 2022   AIC                          15852.707\n",
       "Time:                        18:29:23   BIC                          15878.790\n",
       "Sample:                    01-11-1994   HQIC                         15861.847\n",
       "                         - 04-05-2013                                         \n",
       "=================================================================================\n",
       "                    coef    std err          z      P>|z|      [0.025      0.975]\n",
       "---------------------------------------------------------------------------------\n",
       "const             0.0189      0.015      1.223      0.221      -0.011       0.049\n",
       "ar.L1.returns    -0.0242      0.014     -1.718      0.086      -0.052       0.003\n",
       "ar.L2.returns    -0.0501      0.014     -3.552      0.000      -0.078      -0.022\n",
       "                                    Roots                                    \n",
       "=============================================================================\n",
       "                  Real          Imaginary           Modulus         Frequency\n",
       "-----------------------------------------------------------------------------\n",
       "AR.1           -0.2417           -4.4614j            4.4680           -0.2586\n",
       "AR.2           -0.2417           +4.4614j            4.4680            0.2586\n",
       "-----------------------------------------------------------------------------\n",
       "\"\"\""
      ]
     },
     "execution_count": 17,
     "metadata": {},
     "output_type": "execute_result"
    }
   ],
   "source": [
    "model_ar2 = ARMA(df.returns, order = (2,0))\n",
    "results_ar2 = model_ar2.fit()\n",
    "results_ar2.summary()"
   ]
  },
  {
   "cell_type": "code",
   "execution_count": 18,
   "metadata": {},
   "outputs": [
    {
     "data": {
      "text/plain": [
       "0.0"
      ]
     },
     "execution_count": 18,
     "metadata": {},
     "output_type": "execute_result"
    }
   ],
   "source": [
    "LLR_test(model_ar1, model_ar2)"
   ]
  },
  {
   "cell_type": "code",
   "execution_count": 19,
   "metadata": {},
   "outputs": [
    {
     "data": {
      "text/html": [
       "<table class=\"simpletable\">\n",
       "<caption>ARMA Model Results</caption>\n",
       "<tr>\n",
       "  <th>Dep. Variable:</th>      <td>returns</td>     <th>  No. Observations:  </th>   <td>5019</td>   \n",
       "</tr>\n",
       "<tr>\n",
       "  <th>Model:</th>            <td>ARMA(3, 0)</td>    <th>  Log Likelihood     </th> <td>-7905.632</td>\n",
       "</tr>\n",
       "<tr>\n",
       "  <th>Method:</th>             <td>css-mle</td>     <th>  S.D. of innovations</th>   <td>1.169</td>  \n",
       "</tr>\n",
       "<tr>\n",
       "  <th>Date:</th>          <td>Fri, 07 Jan 2022</td> <th>  AIC                </th> <td>15821.264</td>\n",
       "</tr>\n",
       "<tr>\n",
       "  <th>Time:</th>              <td>18:29:23</td>     <th>  BIC                </th> <td>15853.869</td>\n",
       "</tr>\n",
       "<tr>\n",
       "  <th>Sample:</th>           <td>01-11-1994</td>    <th>  HQIC               </th> <td>15832.689</td>\n",
       "</tr>\n",
       "<tr>\n",
       "  <th></th>                 <td>- 04-05-2013</td>   <th>                     </th>     <td> </td>    \n",
       "</tr>\n",
       "</table>\n",
       "<table class=\"simpletable\">\n",
       "<tr>\n",
       "        <td></td>           <th>coef</th>     <th>std err</th>      <th>z</th>      <th>P>|z|</th>  <th>[0.025</th>    <th>0.975]</th>  \n",
       "</tr>\n",
       "<tr>\n",
       "  <th>const</th>         <td>    0.0189</td> <td>    0.014</td> <td>    1.333</td> <td> 0.182</td> <td>   -0.009</td> <td>    0.047</td>\n",
       "</tr>\n",
       "<tr>\n",
       "  <th>ar.L1.returns</th> <td>   -0.0283</td> <td>    0.014</td> <td>   -2.013</td> <td> 0.044</td> <td>   -0.056</td> <td>   -0.001</td>\n",
       "</tr>\n",
       "<tr>\n",
       "  <th>ar.L2.returns</th> <td>   -0.0521</td> <td>    0.014</td> <td>   -3.708</td> <td> 0.000</td> <td>   -0.080</td> <td>   -0.025</td>\n",
       "</tr>\n",
       "<tr>\n",
       "  <th>ar.L3.returns</th> <td>   -0.0815</td> <td>    0.014</td> <td>   -5.793</td> <td> 0.000</td> <td>   -0.109</td> <td>   -0.054</td>\n",
       "</tr>\n",
       "</table>\n",
       "<table class=\"simpletable\">\n",
       "<caption>Roots</caption>\n",
       "<tr>\n",
       "    <td></td>   <th>            Real</th>  <th>         Imaginary</th> <th>         Modulus</th>  <th>        Frequency</th>\n",
       "</tr>\n",
       "<tr>\n",
       "  <th>AR.1</th> <td>           0.9230</td> <td>          -2.0209j</td> <td>           2.2217</td> <td>          -0.1818</td>\n",
       "</tr>\n",
       "<tr>\n",
       "  <th>AR.2</th> <td>           0.9230</td> <td>          +2.0209j</td> <td>           2.2217</td> <td>           0.1818</td>\n",
       "</tr>\n",
       "<tr>\n",
       "  <th>AR.3</th> <td>          -2.4855</td> <td>          -0.0000j</td> <td>           2.4855</td> <td>          -0.5000</td>\n",
       "</tr>\n",
       "</table>"
      ],
      "text/plain": [
       "<class 'statsmodels.iolib.summary.Summary'>\n",
       "\"\"\"\n",
       "                              ARMA Model Results                              \n",
       "==============================================================================\n",
       "Dep. Variable:                returns   No. Observations:                 5019\n",
       "Model:                     ARMA(3, 0)   Log Likelihood               -7905.632\n",
       "Method:                       css-mle   S.D. of innovations              1.169\n",
       "Date:                Fri, 07 Jan 2022   AIC                          15821.264\n",
       "Time:                        18:29:23   BIC                          15853.869\n",
       "Sample:                    01-11-1994   HQIC                         15832.689\n",
       "                         - 04-05-2013                                         \n",
       "=================================================================================\n",
       "                    coef    std err          z      P>|z|      [0.025      0.975]\n",
       "---------------------------------------------------------------------------------\n",
       "const             0.0189      0.014      1.333      0.182      -0.009       0.047\n",
       "ar.L1.returns    -0.0283      0.014     -2.013      0.044      -0.056      -0.001\n",
       "ar.L2.returns    -0.0521      0.014     -3.708      0.000      -0.080      -0.025\n",
       "ar.L3.returns    -0.0815      0.014     -5.793      0.000      -0.109      -0.054\n",
       "                                    Roots                                    \n",
       "=============================================================================\n",
       "                  Real          Imaginary           Modulus         Frequency\n",
       "-----------------------------------------------------------------------------\n",
       "AR.1            0.9230           -2.0209j            2.2217           -0.1818\n",
       "AR.2            0.9230           +2.0209j            2.2217            0.1818\n",
       "AR.3           -2.4855           -0.0000j            2.4855           -0.5000\n",
       "-----------------------------------------------------------------------------\n",
       "\"\"\""
      ]
     },
     "execution_count": 19,
     "metadata": {},
     "output_type": "execute_result"
    }
   ],
   "source": [
    "model_ar3 = ARMA(df.returns, order = (3,0))\n",
    "results_ar3 = model_ar3.fit()\n",
    "results_ar3.summary()"
   ]
  },
  {
   "cell_type": "code",
   "execution_count": 20,
   "metadata": {},
   "outputs": [
    {
     "data": {
      "text/plain": [
       "0.0"
      ]
     },
     "execution_count": 20,
     "metadata": {},
     "output_type": "execute_result"
    }
   ],
   "source": [
    "LLR_test(model_ar2, model_ar3)"
   ]
  },
  {
   "cell_type": "code",
   "execution_count": 21,
   "metadata": {},
   "outputs": [
    {
     "name": "stdout",
     "output_type": "stream",
     "text": [
      "                              ARMA Model Results                              \n",
      "==============================================================================\n",
      "Dep. Variable:                returns   No. Observations:                 5019\n",
      "Model:                     ARMA(4, 0)   Log Likelihood               -7900.213\n",
      "Method:                       css-mle   S.D. of innovations              1.168\n",
      "Date:                Fri, 07 Jan 2022   AIC                          15812.427\n",
      "Time:                        18:29:23   BIC                          15851.553\n",
      "Sample:                    01-11-1994   HQIC                         15826.137\n",
      "                         - 04-05-2013                                         \n",
      "=================================================================================\n",
      "                    coef    std err          z      P>|z|      [0.025      0.975]\n",
      "---------------------------------------------------------------------------------\n",
      "const             0.0189      0.015      1.271      0.204      -0.010       0.048\n",
      "ar.L1.returns    -0.0246      0.014     -1.741      0.082      -0.052       0.003\n",
      "ar.L2.returns    -0.0497      0.014     -3.535      0.000      -0.077      -0.022\n",
      "ar.L3.returns    -0.0802      0.014     -5.702      0.000      -0.108      -0.053\n",
      "ar.L4.returns     0.0465      0.014      3.294      0.001       0.019       0.074\n",
      "                                    Roots                                    \n",
      "=============================================================================\n",
      "                  Real          Imaginary           Modulus         Frequency\n",
      "-----------------------------------------------------------------------------\n",
      "AR.1           -1.8885           -0.0000j            1.8885           -0.5000\n",
      "AR.2            0.3228           -1.9326j            1.9594           -0.2237\n",
      "AR.3            0.3228           +1.9326j            1.9594            0.2237\n",
      "AR.4            2.9689           -0.0000j            2.9689           -0.0000\n",
      "-----------------------------------------------------------------------------\n",
      "LLR test: 0.001\n"
     ]
    }
   ],
   "source": [
    "model_ar4 = ARMA(df.returns, order = (4,0))\n",
    "results_ar4 = model_ar4.fit()\n",
    "print(results_ar4.summary())\n",
    "print (\"LLR test: \" + str(LLR_test(model_ar3, model_ar4)))"
   ]
  },
  {
   "cell_type": "code",
   "execution_count": 22,
   "metadata": {},
   "outputs": [
    {
     "name": "stdout",
     "output_type": "stream",
     "text": [
      "                              ARMA Model Results                              \n",
      "==============================================================================\n",
      "Dep. Variable:                returns   No. Observations:                 5019\n",
      "Model:                     ARMA(5, 0)   Log Likelihood               -7891.277\n",
      "Method:                       css-mle   S.D. of innovations              1.166\n",
      "Date:                Fri, 07 Jan 2022   AIC                          15796.553\n",
      "Time:                        18:29:23   BIC                          15842.200\n",
      "Sample:                    01-11-1994   HQIC                         15812.549\n",
      "                         - 04-05-2013                                         \n",
      "=================================================================================\n",
      "                    coef    std err          z      P>|z|      [0.025      0.975]\n",
      "---------------------------------------------------------------------------------\n",
      "const             0.0189      0.014      1.352      0.176      -0.009       0.046\n",
      "ar.L1.returns    -0.0218      0.014     -1.546      0.122      -0.049       0.006\n",
      "ar.L2.returns    -0.0545      0.014     -3.868      0.000      -0.082      -0.027\n",
      "ar.L3.returns    -0.0831      0.014     -5.915      0.000      -0.111      -0.056\n",
      "ar.L4.returns     0.0450      0.014      3.193      0.001       0.017       0.073\n",
      "ar.L5.returns    -0.0596      0.014     -4.232      0.000      -0.087      -0.032\n",
      "                                    Roots                                    \n",
      "=============================================================================\n",
      "                  Real          Imaginary           Modulus         Frequency\n",
      "-----------------------------------------------------------------------------\n",
      "AR.1           -1.5480           -0.0000j            1.5480           -0.5000\n",
      "AR.2           -0.2858           -1.7251j            1.7486           -0.2761\n",
      "AR.3           -0.2858           +1.7251j            1.7486            0.2761\n",
      "AR.4            1.4368           -1.2158j            1.8822           -0.1118\n",
      "AR.5            1.4368           +1.2158j            1.8822            0.1118\n",
      "-----------------------------------------------------------------------------\n",
      "LLR test: 0.0\n"
     ]
    }
   ],
   "source": [
    "model_ar5 = ARMA(df.returns, order = (5,0))\n",
    "results_ar5 = model_ar5.fit()\n",
    "print(results_ar5.summary())\n",
    "print (\"LLR test: \" + str(LLR_test(model_ar4, model_ar5)))"
   ]
  },
  {
   "cell_type": "code",
   "execution_count": 23,
   "metadata": {},
   "outputs": [
    {
     "name": "stdout",
     "output_type": "stream",
     "text": [
      "                              ARMA Model Results                              \n",
      "==============================================================================\n",
      "Dep. Variable:                returns   No. Observations:                 5019\n",
      "Model:                     ARMA(6, 0)   Log Likelihood               -7885.842\n",
      "Method:                       css-mle   S.D. of innovations              1.164\n",
      "Date:                Fri, 07 Jan 2022   AIC                          15787.684\n",
      "Time:                        18:29:24   BIC                          15839.852\n",
      "Sample:                    01-11-1994   HQIC                         15805.965\n",
      "                         - 04-05-2013                                         \n",
      "=================================================================================\n",
      "                    coef    std err          z      P>|z|      [0.025      0.975]\n",
      "---------------------------------------------------------------------------------\n",
      "const             0.0190      0.013      1.418      0.156      -0.007       0.045\n",
      "ar.L1.returns    -0.0246      0.014     -1.742      0.082      -0.052       0.003\n",
      "ar.L2.returns    -0.0524      0.014     -3.719      0.000      -0.080      -0.025\n",
      "ar.L3.returns    -0.0870      0.014     -6.174      0.000      -0.115      -0.059\n",
      "ar.L4.returns     0.0424      0.014      3.012      0.003       0.015       0.070\n",
      "ar.L5.returns    -0.0607      0.014     -4.308      0.000      -0.088      -0.033\n",
      "ar.L6.returns    -0.0465      0.014     -3.299      0.001      -0.074      -0.019\n",
      "                                    Roots                                    \n",
      "=============================================================================\n",
      "                  Real          Imaginary           Modulus         Frequency\n",
      "-----------------------------------------------------------------------------\n",
      "AR.1            1.2871           -0.9023j            1.5719           -0.0973\n",
      "AR.2            1.2871           +0.9023j            1.5719            0.0973\n",
      "AR.3           -0.0727           -1.5282j            1.5299           -0.2576\n",
      "AR.4           -0.0727           +1.5282j            1.5299            0.2576\n",
      "AR.5           -1.8665           -0.4831j            1.9280           -0.4597\n",
      "AR.6           -1.8665           +0.4831j            1.9280            0.4597\n",
      "-----------------------------------------------------------------------------\n",
      "LLR test: 0.001\n"
     ]
    }
   ],
   "source": [
    "model_ar6 = ARMA(df.returns, order = (6,0))\n",
    "results_ar6 = model_ar6.fit()\n",
    "print(results_ar6.summary())\n",
    "print (\"LLR test: \" + str(LLR_test(model_ar5, model_ar6)))"
   ]
  },
  {
   "cell_type": "code",
   "execution_count": 24,
   "metadata": {},
   "outputs": [
    {
     "data": {
      "text/html": [
       "<table class=\"simpletable\">\n",
       "<caption>ARMA Model Results</caption>\n",
       "<tr>\n",
       "  <th>Dep. Variable:</th>      <td>returns</td>     <th>  No. Observations:  </th>   <td>5019</td>   \n",
       "</tr>\n",
       "<tr>\n",
       "  <th>Model:</th>            <td>ARMA(7, 0)</td>    <th>  Log Likelihood     </th> <td>-7885.542</td>\n",
       "</tr>\n",
       "<tr>\n",
       "  <th>Method:</th>             <td>css-mle</td>     <th>  S.D. of innovations</th>   <td>1.164</td>  \n",
       "</tr>\n",
       "<tr>\n",
       "  <th>Date:</th>          <td>Fri, 07 Jan 2022</td> <th>  AIC                </th> <td>15789.083</td>\n",
       "</tr>\n",
       "<tr>\n",
       "  <th>Time:</th>              <td>18:29:24</td>     <th>  BIC                </th> <td>15847.772</td>\n",
       "</tr>\n",
       "<tr>\n",
       "  <th>Sample:</th>           <td>01-11-1994</td>    <th>  HQIC               </th> <td>15809.649</td>\n",
       "</tr>\n",
       "<tr>\n",
       "  <th></th>                 <td>- 04-05-2013</td>   <th>                     </th>     <td> </td>    \n",
       "</tr>\n",
       "</table>\n",
       "<table class=\"simpletable\">\n",
       "<tr>\n",
       "        <td></td>           <th>coef</th>     <th>std err</th>      <th>z</th>      <th>P>|z|</th>  <th>[0.025</th>    <th>0.975]</th>  \n",
       "</tr>\n",
       "<tr>\n",
       "  <th>const</th>         <td>    0.0190</td> <td>    0.014</td> <td>    1.402</td> <td> 0.161</td> <td>   -0.008</td> <td>    0.045</td>\n",
       "</tr>\n",
       "<tr>\n",
       "  <th>ar.L1.returns</th> <td>   -0.0241</td> <td>    0.014</td> <td>   -1.704</td> <td> 0.088</td> <td>   -0.052</td> <td>    0.004</td>\n",
       "</tr>\n",
       "<tr>\n",
       "  <th>ar.L2.returns</th> <td>   -0.0517</td> <td>    0.014</td> <td>   -3.666</td> <td> 0.000</td> <td>   -0.079</td> <td>   -0.024</td>\n",
       "</tr>\n",
       "<tr>\n",
       "  <th>ar.L3.returns</th> <td>   -0.0875</td> <td>    0.014</td> <td>   -6.202</td> <td> 0.000</td> <td>   -0.115</td> <td>   -0.060</td>\n",
       "</tr>\n",
       "<tr>\n",
       "  <th>ar.L4.returns</th> <td>    0.0434</td> <td>    0.014</td> <td>    3.068</td> <td> 0.002</td> <td>    0.016</td> <td>    0.071</td>\n",
       "</tr>\n",
       "<tr>\n",
       "  <th>ar.L5.returns</th> <td>   -0.0601</td> <td>    0.014</td> <td>   -4.262</td> <td> 0.000</td> <td>   -0.088</td> <td>   -0.032</td>\n",
       "</tr>\n",
       "<tr>\n",
       "  <th>ar.L6.returns</th> <td>   -0.0462</td> <td>    0.014</td> <td>   -3.278</td> <td> 0.001</td> <td>   -0.074</td> <td>   -0.019</td>\n",
       "</tr>\n",
       "<tr>\n",
       "  <th>ar.L7.returns</th> <td>    0.0109</td> <td>    0.014</td> <td>    0.775</td> <td> 0.438</td> <td>   -0.017</td> <td>    0.039</td>\n",
       "</tr>\n",
       "</table>\n",
       "<table class=\"simpletable\">\n",
       "<caption>Roots</caption>\n",
       "<tr>\n",
       "    <td></td>   <th>            Real</th>  <th>         Imaginary</th> <th>         Modulus</th>  <th>        Frequency</th>\n",
       "</tr>\n",
       "<tr>\n",
       "  <th>AR.1</th> <td>          -1.6487</td> <td>          -0.5383j</td> <td>           1.7344</td> <td>          -0.4498</td>\n",
       "</tr>\n",
       "<tr>\n",
       "  <th>AR.2</th> <td>          -1.6487</td> <td>          +0.5383j</td> <td>           1.7344</td> <td>           0.4498</td>\n",
       "</tr>\n",
       "<tr>\n",
       "  <th>AR.3</th> <td>          -0.1191</td> <td>          -1.4953j</td> <td>           1.5000</td> <td>          -0.2626</td>\n",
       "</tr>\n",
       "<tr>\n",
       "  <th>AR.4</th> <td>          -0.1191</td> <td>          +1.4953j</td> <td>           1.5000</td> <td>           0.2626</td>\n",
       "</tr>\n",
       "<tr>\n",
       "  <th>AR.5</th> <td>           1.2791</td> <td>          -0.9793j</td> <td>           1.6109</td> <td>          -0.1040</td>\n",
       "</tr>\n",
       "<tr>\n",
       "  <th>AR.6</th> <td>           1.2791</td> <td>          +0.9793j</td> <td>           1.6109</td> <td>           0.1040</td>\n",
       "</tr>\n",
       "<tr>\n",
       "  <th>AR.7</th> <td>           5.2032</td> <td>          -0.0000j</td> <td>           5.2032</td> <td>          -0.0000</td>\n",
       "</tr>\n",
       "</table>"
      ],
      "text/plain": [
       "<class 'statsmodels.iolib.summary.Summary'>\n",
       "\"\"\"\n",
       "                              ARMA Model Results                              \n",
       "==============================================================================\n",
       "Dep. Variable:                returns   No. Observations:                 5019\n",
       "Model:                     ARMA(7, 0)   Log Likelihood               -7885.542\n",
       "Method:                       css-mle   S.D. of innovations              1.164\n",
       "Date:                Fri, 07 Jan 2022   AIC                          15789.083\n",
       "Time:                        18:29:24   BIC                          15847.772\n",
       "Sample:                    01-11-1994   HQIC                         15809.649\n",
       "                         - 04-05-2013                                         \n",
       "=================================================================================\n",
       "                    coef    std err          z      P>|z|      [0.025      0.975]\n",
       "---------------------------------------------------------------------------------\n",
       "const             0.0190      0.014      1.402      0.161      -0.008       0.045\n",
       "ar.L1.returns    -0.0241      0.014     -1.704      0.088      -0.052       0.004\n",
       "ar.L2.returns    -0.0517      0.014     -3.666      0.000      -0.079      -0.024\n",
       "ar.L3.returns    -0.0875      0.014     -6.202      0.000      -0.115      -0.060\n",
       "ar.L4.returns     0.0434      0.014      3.068      0.002       0.016       0.071\n",
       "ar.L5.returns    -0.0601      0.014     -4.262      0.000      -0.088      -0.032\n",
       "ar.L6.returns    -0.0462      0.014     -3.278      0.001      -0.074      -0.019\n",
       "ar.L7.returns     0.0109      0.014      0.775      0.438      -0.017       0.039\n",
       "                                    Roots                                    \n",
       "=============================================================================\n",
       "                  Real          Imaginary           Modulus         Frequency\n",
       "-----------------------------------------------------------------------------\n",
       "AR.1           -1.6487           -0.5383j            1.7344           -0.4498\n",
       "AR.2           -1.6487           +0.5383j            1.7344            0.4498\n",
       "AR.3           -0.1191           -1.4953j            1.5000           -0.2626\n",
       "AR.4           -0.1191           +1.4953j            1.5000            0.2626\n",
       "AR.5            1.2791           -0.9793j            1.6109           -0.1040\n",
       "AR.6            1.2791           +0.9793j            1.6109            0.1040\n",
       "AR.7            5.2032           -0.0000j            5.2032           -0.0000\n",
       "-----------------------------------------------------------------------------\n",
       "\"\"\""
      ]
     },
     "execution_count": 24,
     "metadata": {},
     "output_type": "execute_result"
    }
   ],
   "source": [
    "model_ar7 = ARMA(df.returns, order = (7,0))\n",
    "results_ar7 = model_ar7.fit()\n",
    "results_ar7.summary()"
   ]
  },
  {
   "cell_type": "code",
   "execution_count": 25,
   "metadata": {},
   "outputs": [
    {
     "name": "stdout",
     "output_type": "stream",
     "text": [
      "0.438\n"
     ]
    }
   ],
   "source": [
    "print (LLR_test(model_ar6, model_ar7))"
   ]
  },
  {
   "cell_type": "markdown",
   "metadata": {},
   "source": [
    "## Analysing the Residuals"
   ]
  },
  {
   "cell_type": "code",
   "execution_count": 26,
   "metadata": {},
   "outputs": [],
   "source": [
    "df['res_ret'] = results_ar6.resid"
   ]
  },
  {
   "cell_type": "code",
   "execution_count": 27,
   "metadata": {},
   "outputs": [
    {
     "data": {
      "text/plain": [
       "-6.566406295627039e-05"
      ]
     },
     "execution_count": 27,
     "metadata": {},
     "output_type": "execute_result"
    }
   ],
   "source": [
    "df.res_ret.mean()"
   ]
  },
  {
   "cell_type": "code",
   "execution_count": 28,
   "metadata": {},
   "outputs": [
    {
     "data": {
      "text/plain": [
       "1.3562350562720926"
      ]
     },
     "execution_count": 28,
     "metadata": {},
     "output_type": "execute_result"
    }
   ],
   "source": [
    "df.res_ret.var()"
   ]
  },
  {
   "cell_type": "markdown",
   "metadata": {},
   "source": [
    "### Residuals must be stationary"
   ]
  },
  {
   "cell_type": "code",
   "execution_count": 29,
   "metadata": {},
   "outputs": [
    {
     "data": {
      "text/plain": [
       "(-70.77881541773425,\n",
       " 0.0,\n",
       " 0,\n",
       " 5018,\n",
       " {'1%': -3.4316538358533277,\n",
       "  '5%': -2.8621161549128313,\n",
       "  '10%': -2.567076687880585},\n",
       " 15686.691421777221)"
      ]
     },
     "execution_count": 29,
     "metadata": {},
     "output_type": "execute_result"
    }
   ],
   "source": [
    "sts.adfuller(df.res_ret)"
   ]
  },
  {
   "cell_type": "markdown",
   "metadata": {},
   "source": [
    "### No autocorrelation between residuals"
   ]
  },
  {
   "cell_type": "code",
   "execution_count": 30,
   "metadata": {
    "scrolled": true
   },
   "outputs": [
    {
     "data": {
      "image/png": "[encoded data removed]",
      "text/plain": [
       "<Figure size 432x288 with 1 Axes>"
      ]
     },
     "metadata": {},
     "output_type": "display_data"
    }
   ],
   "source": [
    "sgt.plot_acf(df.res_ret, zero = False, lags = 40)\n",
    "plt.title(\"ACF Of Residuals for Returns\",size=24)\n",
    "plt.show()"
   ]
  },
  {
   "cell_type": "markdown",
   "metadata": {},
   "source": [
    "### Residuals must be random"
   ]
  },
  {
   "cell_type": "code",
   "execution_count": 31,
   "metadata": {},
   "outputs": [
    {
     "data": {
      "image/png": "[encoded data removed]",
      "text/plain": [
       "<Figure size 1440x360 with 1 Axes>"
      ]
     },
     "metadata": {},
     "output_type": "display_data"
    }
   ],
   "source": [
    "df.res_ret.plot(figsize=(20,5))\n",
    "plt.title(\"Residuals of Returns\", size=24)\n",
    "plt.show()"
   ]
  }
 ],
 "metadata": {
  "kernelspec": {
   "display_name": "Python 3",
   "language": "python",
   "name": "python3"
  },
  "language_info": {
   "codemirror_mode": {
    "name": "ipython",
    "version": 3
   },
   "file_extension": ".py",
   "mimetype": "text/x-python",
   "name": "python",
   "nbconvert_exporter": "python",
   "pygments_lexer": "ipython3",
   "version": "3.8.8"
  }
 },
 "nbformat": 4,
 "nbformat_minor": 4
}

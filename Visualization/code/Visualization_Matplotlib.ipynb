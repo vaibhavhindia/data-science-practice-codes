{
 "cells": [
  {
   "cell_type": "code",
   "execution_count": 1,
   "metadata": {},
   "outputs": [],
   "source": [
    "import warnings\n",
    "warnings.filterwarnings('ignore')"
   ]
  },
  {
   "cell_type": "code",
   "execution_count": 2,
   "metadata": {},
   "outputs": [],
   "source": [
    "import numpy as np\n",
    "import pandas as pd\n",
    "import matplotlib.pyplot as plt\n",
    "import seaborn as sns"
   ]
  },
  {
   "cell_type": "markdown",
   "metadata": {},
   "source": [
    "# matplotlib"
   ]
  },
  {
   "cell_type": "markdown",
   "metadata": {},
   "source": [
    "+ The Figure is the overall window or page that everything is drawn on. It’s the top-level component of all.\n",
    "+ To the figure you add Axes. The Axes is the area on which the data is plotted.\n",
    "+ A figure can have multiple axes."
   ]
  },
  {
   "cell_type": "markdown",
   "metadata": {},
   "source": [
    "<font color='skyblue'>Note:</font> when you see, for example, plt.xlim, you’ll call ax.set_xlim() behind the covers. \n",
    "+ All methods of an Axes object exist as a function in the pyplot module and vice versa. \n",
    "+ Mostly, you’ll use the functions of the pyplot module because they’re much cleaner, at least for simple plots!"
   ]
  },
  {
   "cell_type": "markdown",
   "metadata": {},
   "source": [
    "#### Method I"
   ]
  },
  {
   "cell_type": "code",
   "execution_count": null,
   "metadata": {},
   "outputs": [],
   "source": [
    "# Method 1\n",
    "# We'll explain the \"111\" later. Basically, 1 row and 1 column.\n",
    "\n",
    "fig = plt.figure()\n",
    "ax = fig.add_subplot(111) \n",
    "\n",
    "# Alternate Method\n",
    "#fig, ax = plt.subplots()\n",
    "\n",
    "ax.set(xlim=[0.5, 4.5], ylim=[-2, 8], title='An Example Axes',\n",
    "       ylabel='Y-Axis', xlabel='X-Axis')\n",
    "plt.show()"
   ]
  },
  {
   "cell_type": "markdown",
   "metadata": {},
   "source": [
    "#### Method II\n",
    "When you want to control individual elements\n",
    "\n",
    "Example \n",
    "+ <font color='skyblue'> ax.set_xlabel('Some Label', size=25) </font>"
   ]
  },
  {
   "cell_type": "code",
   "execution_count": null,
   "metadata": {},
   "outputs": [],
   "source": [
    "fig = plt.figure()\n",
    "# We'll explain the \"111\" later. Basically, 1 row and 1 column.\n",
    "ax = fig.add_subplot(111) \n",
    "ax.set_xlim([0.5, 4.5])\n",
    "ax.set_ylim([-2, 8])\n",
    "ax.text(2.0,2.0,'This is a line Plot',color='b')\n",
    "\n",
    "ax.set_title('A Different Example Axes Title')\n",
    "ax.set_ylabel('Y-Axis (changed)')\n",
    "ax.set_xlabel('X-Axis (changed)')\n",
    "plt.show()"
   ]
  },
  {
   "cell_type": "code",
   "execution_count": null,
   "metadata": {},
   "outputs": [],
   "source": [
    "fig = plt.figure()\n",
    "ax = fig.add_subplot(111)\n",
    "ax.set_xlim(0, 4.5)\n",
    "ax.set_ylim(5, 35)\n",
    "\n",
    "\n",
    "# Line Plot\n",
    "x=[1, 2, 3, 4]\n",
    "y=[10, 20, 25, 30]\n",
    "ax.plot(x, y,\n",
    "        color='lightblue', \n",
    "        linewidth=3\n",
    "       )\n",
    "\n",
    "#Scatter Plot\n",
    "x=[0.3, 3.8, 1.2, 2.5]\n",
    "y=[11, 25, 9, 26]\n",
    "ax.scatter(x,y, marker='^')\n",
    "\n",
    "plt.show()"
   ]
  },
  {
   "cell_type": "markdown",
   "metadata": {},
   "source": [
    "#### Using the pyplot methods"
   ]
  },
  {
   "cell_type": "code",
   "execution_count": null,
   "metadata": {},
   "outputs": [],
   "source": [
    "plt.plot([1, 2, 3, 4], [10, 20, 25, 30], color='lightblue', linewidth=3)\n",
    "plt.scatter([0.3, 3.8, 1.2, 2.5], [11, 25, 9, 26], c=[1, 2, 3, 5], marker='^')\n",
    "plt.xlim(0.5, 4.5)\n",
    "plt.text(3.0,20,'This is a line Plot',color='b')\n",
    "plt.show()"
   ]
  },
  {
   "cell_type": "markdown",
   "metadata": {},
   "source": [
    "Markers\n",
    "Markers are commonly used in plot() and scatter() plots, but also show up elsewhere. There is a wide set of markers available, and custom markers can even be specified.\n",
    "\n",
    "marker\tdescription\tmarker\tdescription\tmarker\tdescription\tmarker\tdescription\n",
    "\".\"\tpoint\t\"+\"\tplus\t\",\"\tpixel\t\"x\"\tcross\n",
    "\"o\"\tcircle\t\"D\"\tdiamond\t\"d\"\tthin_diamond\t\t\n",
    "\"8\"\toctagon\t\"s\"\tsquare\t\"p\"\tpentagon\t\"*\"\tstar\n",
    "\"|\"\tvertical line\t\"_\"\thorizontal line\t\"h\"\thexagon1\t\"H\"\thexagon2\n",
    "0\ttickleft\t4\tcaretleft\t\"<\"\ttriangle_left\t\"3\"\ttri_left\n",
    "1\ttickright\t5\tcaretright\t\">\"\ttriangle_right\t\"4\"\ttri_right\n",
    "2\ttickup\t6\tcaretup\t\"^\"\ttriangle_up\t\"2\"\ttri_up\n",
    "3\ttickdown\t7\tcaretdown\t\"v\"\ttriangle_down\t\"1\"\ttri_down\n",
    "\"None\"\tnothing\tNone\tdefault\t\" \"\tnothing\t\"\"\tnothing\n"
   ]
  },
  {
   "cell_type": "markdown",
   "metadata": {},
   "source": [
    "## Sub Plots"
   ]
  },
  {
   "cell_type": "code",
   "execution_count": null,
   "metadata": {},
   "outputs": [],
   "source": [
    "fig, axes = plt.subplots(2, 2, figsize=(9, 9))\n",
    "fig.subplots_adjust(wspace=0.5, hspace=0.3)\n",
    "(ax1,ax2),(ax3,ax4) = axes\n",
    "ax1.plot([1, 2, 3, 4], [10, 20, 25, 30], color='lightblue', linewidth=3)\n",
    "ax2.scatter([0.3, 3.8, 1.2, 2.5], [11, 25, 9, 26], c=[1, 2, 3, 5], marker='^')\n",
    "plt.show()\n"
   ]
  },
  {
   "cell_type": "code",
   "execution_count": null,
   "metadata": {},
   "outputs": [],
   "source": [
    "axes"
   ]
  },
  {
   "cell_type": "markdown",
   "metadata": {},
   "source": [
    "# Categorical Vs Numeric"
   ]
  },
  {
   "cell_type": "markdown",
   "metadata": {},
   "source": [
    "### a. Bar Chart"
   ]
  },
  {
   "cell_type": "code",
   "execution_count": 3,
   "metadata": {},
   "outputs": [
    {
     "data": {
      "text/html": [
       "<div>\n",
       "<style scoped>\n",
       "    .dataframe tbody tr th:only-of-type {\n",
       "        vertical-align: middle;\n",
       "    }\n",
       "\n",
       "    .dataframe tbody tr th {\n",
       "        vertical-align: top;\n",
       "    }\n",
       "\n",
       "    .dataframe thead th {\n",
       "        text-align: right;\n",
       "    }\n",
       "</style>\n",
       "<table border=\"1\" class=\"dataframe\">\n",
       "  <thead>\n",
       "    <tr style=\"text-align: right;\">\n",
       "      <th></th>\n",
       "      <th>Brand</th>\n",
       "      <th>Cars Listings</th>\n",
       "    </tr>\n",
       "  </thead>\n",
       "  <tbody>\n",
       "    <tr>\n",
       "      <th>0</th>\n",
       "      <td>Audi</td>\n",
       "      <td>419</td>\n",
       "    </tr>\n",
       "    <tr>\n",
       "      <th>1</th>\n",
       "      <td>BMW</td>\n",
       "      <td>636</td>\n",
       "    </tr>\n",
       "    <tr>\n",
       "      <th>2</th>\n",
       "      <td>Mercedes-Benz</td>\n",
       "      <td>820</td>\n",
       "    </tr>\n",
       "    <tr>\n",
       "      <th>3</th>\n",
       "      <td>Mitsubishi</td>\n",
       "      <td>306</td>\n",
       "    </tr>\n",
       "    <tr>\n",
       "      <th>4</th>\n",
       "      <td>Renault</td>\n",
       "      <td>438</td>\n",
       "    </tr>\n",
       "    <tr>\n",
       "      <th>5</th>\n",
       "      <td>Toyota</td>\n",
       "      <td>509</td>\n",
       "    </tr>\n",
       "    <tr>\n",
       "      <th>6</th>\n",
       "      <td>Volkswagen</td>\n",
       "      <td>875</td>\n",
       "    </tr>\n",
       "  </tbody>\n",
       "</table>\n",
       "</div>"
      ],
      "text/plain": [
       "           Brand  Cars Listings\n",
       "0           Audi            419\n",
       "1            BMW            636\n",
       "2  Mercedes-Benz            820\n",
       "3     Mitsubishi            306\n",
       "4        Renault            438\n",
       "5         Toyota            509\n",
       "6     Volkswagen            875"
      ]
     },
     "execution_count": 3,
     "metadata": {},
     "output_type": "execute_result"
    }
   ],
   "source": [
    "df_used_cars = pd.read_csv(\"bar_chart_data.csv\")\n",
    "df_used_cars"
   ]
  },
  {
   "cell_type": "code",
   "execution_count": 9,
   "metadata": {},
   "outputs": [
    {
     "data": {
      "image/png": "[encoded data removed]",
      "text/plain": [
       "<Figure size 432x288 with 1 Axes>"
      ]
     },
     "metadata": {
      "needs_background": "light"
     },
     "output_type": "display_data"
    }
   ],
   "source": [
    "# Set the size of the chart\n",
    "plt.figure(figsize = (6, 4)) \n",
    "#figsize=plt.figaspect(9/6)\n",
    "\n",
    "\n",
    "# To create a bar chart with matplotlib you can use the 'bar' function.\n",
    "plt.bar(x = df_used_cars[\"Brand\"], #specify the x axis\n",
    "        height = df_used_cars[\"Cars Listings\"], #specify the y axis\n",
    "        color = \"#F5DEB3\") # the color for the bars\n",
    "\n",
    "# rotate and format the labels for the x-axis\n",
    "plt.xticks( rotation = 90,fontsize = 12) \n",
    "plt.title(\"Cars Listings by Brand\", fontsize = 16, fontweight = \"bold\") \n",
    "plt.ylabel(\"Number of Listings\", fontsize = 13 ) \n",
    "\n",
    "# you can export your chart as a picture\n",
    "#plt.savefig(\"Used Cars Bar.png\") \n",
    "\n",
    "# depending on which environment you're using without this line you're chart may not display properly.\n",
    "plt.show() "
   ]
  },
  {
   "cell_type": "markdown",
   "metadata": {},
   "source": [
    "### b. Horizontal Bar Chart"
   ]
  },
  {
   "cell_type": "code",
   "execution_count": 10,
   "metadata": {},
   "outputs": [
    {
     "data": {
      "image/png": "[encoded data removed]",
      "text/plain": [
       "<Figure size 432x288 with 1 Axes>"
      ]
     },
     "metadata": {
      "needs_background": "light"
     },
     "output_type": "display_data"
    }
   ],
   "source": [
    "plt.figure(figsize = (6, 4)) \n",
    "\n",
    "# To create a bar chart with matplotlib you can use the 'bar' function.\n",
    "plt.barh(y = df_used_cars[\"Brand\"], \n",
    "        width = df_used_cars[\"Cars Listings\"].sort_values(), \n",
    "        color = \"midnightblue\") \n",
    "\n",
    "plt.xticks(fontsize = 13) \n",
    "plt.title(\"Cars Listings by Brand\", fontsize = 16, fontweight = \"bold\") \n",
    "plt.ylabel(\"Number of Listings\", fontsize = 13 ) \n",
    "plt.savefig(\"UsedCarsBar.png\") \n",
    "plt.show() "
   ]
  },
  {
   "cell_type": "markdown",
   "metadata": {},
   "source": [
    "### c. Pie Chart"
   ]
  },
  {
   "cell_type": "code",
   "execution_count": 11,
   "metadata": {},
   "outputs": [
    {
     "data": {
      "text/html": [
       "<div>\n",
       "<style scoped>\n",
       "    .dataframe tbody tr th:only-of-type {\n",
       "        vertical-align: middle;\n",
       "    }\n",
       "\n",
       "    .dataframe tbody tr th {\n",
       "        vertical-align: top;\n",
       "    }\n",
       "\n",
       "    .dataframe thead th {\n",
       "        text-align: right;\n",
       "    }\n",
       "</style>\n",
       "<table border=\"1\" class=\"dataframe\">\n",
       "  <thead>\n",
       "    <tr style=\"text-align: right;\">\n",
       "      <th></th>\n",
       "      <th>Engine Fuel Type</th>\n",
       "      <th>Number of Cars</th>\n",
       "    </tr>\n",
       "  </thead>\n",
       "  <tbody>\n",
       "    <tr>\n",
       "      <th>0</th>\n",
       "      <td>Diesel</td>\n",
       "      <td>2019</td>\n",
       "    </tr>\n",
       "    <tr>\n",
       "      <th>1</th>\n",
       "      <td>Gas</td>\n",
       "      <td>613</td>\n",
       "    </tr>\n",
       "    <tr>\n",
       "      <th>2</th>\n",
       "      <td>Other</td>\n",
       "      <td>154</td>\n",
       "    </tr>\n",
       "    <tr>\n",
       "      <th>3</th>\n",
       "      <td>Petrol</td>\n",
       "      <td>1559</td>\n",
       "    </tr>\n",
       "  </tbody>\n",
       "</table>\n",
       "</div>"
      ],
      "text/plain": [
       "  Engine Fuel Type  Number of Cars\n",
       "0           Diesel            2019\n",
       "1              Gas             613\n",
       "2            Other             154\n",
       "3           Petrol            1559"
      ]
     },
     "execution_count": 11,
     "metadata": {},
     "output_type": "execute_result"
    }
   ],
   "source": [
    "df_fuel_engine_type = pd.read_csv(\"pie_chart_data.csv\")\n",
    "df_fuel_engine_type"
   ]
  },
  {
   "cell_type": "code",
   "execution_count": 15,
   "metadata": {},
   "outputs": [
    {
     "data": {
      "text/html": [
       "<svg  width=\"330\" height=\"55\"><rect x=\"0\" y=\"0\" width=\"55\" height=\"55\" style=\"fill:#5302a3;stroke-width:2;stroke:rgb(255,255,255)\"/><rect x=\"55\" y=\"0\" width=\"55\" height=\"55\" style=\"fill:#8b0aa5;stroke-width:2;stroke:rgb(255,255,255)\"/><rect x=\"110\" y=\"0\" width=\"55\" height=\"55\" style=\"fill:#b83289;stroke-width:2;stroke:rgb(255,255,255)\"/><rect x=\"165\" y=\"0\" width=\"55\" height=\"55\" style=\"fill:#db5c68;stroke-width:2;stroke:rgb(255,255,255)\"/><rect x=\"220\" y=\"0\" width=\"55\" height=\"55\" style=\"fill:#f48849;stroke-width:2;stroke:rgb(255,255,255)\"/><rect x=\"275\" y=\"0\" width=\"55\" height=\"55\" style=\"fill:#febd2a;stroke-width:2;stroke:rgb(255,255,255)\"/></svg>"
      ],
      "text/plain": [
       "[(0.32515, 0.006915, 0.639512),\n",
       " (0.546157, 0.038954, 0.64701),\n",
       " (0.723444, 0.196158, 0.538981),\n",
       " (0.85975, 0.360588, 0.406917),\n",
       " (0.95547, 0.533093, 0.28549),\n",
       " (0.994495, 0.74088, 0.166335)]"
      ]
     },
     "execution_count": 15,
     "metadata": {},
     "output_type": "execute_result"
    }
   ],
   "source": [
    "sns.set_palette('plasma')\n",
    "sns.color_palette()"
   ]
  },
  {
   "cell_type": "code",
   "execution_count": 20,
   "metadata": {},
   "outputs": [
    {
     "data": {
      "image/png": "[encoded data removed]",
      "text/plain": [
       "<Figure size 720x576 with 1 Axes>"
      ]
     },
     "metadata": {},
     "output_type": "display_data"
    }
   ],
   "source": [
    "plt.figure(figsize = (10, 8))\n",
    "plt.pie(df_fuel_engine_type['Number of Cars'], \n",
    "        labels = df_fuel_engine_type['Engine Fuel Type'].values,\n",
    "        explode = [0.0,0.0,0.1,0.0],       \n",
    "        autopct = '%.2f%%',\n",
    "        textprops = {'size' : 'x-large',\n",
    "                     'fontweight' : 'bold', \n",
    "                     'rotation' : '45',\n",
    "                     'color' : 'y'}\n",
    "       )\n",
    "# Uses labels\n",
    "plt.legend(loc='lower right')\n",
    "plt.title('Cars by Engine Fuel Type', fontsize = 18, fontweight = 'bold')\n",
    "plt.show()"
   ]
  },
  {
   "cell_type": "code",
   "execution_count": 21,
   "metadata": {},
   "outputs": [
    {
     "data": {
      "text/html": [
       "<div>\n",
       "<style scoped>\n",
       "    .dataframe tbody tr th:only-of-type {\n",
       "        vertical-align: middle;\n",
       "    }\n",
       "\n",
       "    .dataframe tbody tr th {\n",
       "        vertical-align: top;\n",
       "    }\n",
       "\n",
       "    .dataframe thead th {\n",
       "        text-align: right;\n",
       "    }\n",
       "</style>\n",
       "<table border=\"1\" class=\"dataframe\">\n",
       "  <thead>\n",
       "    <tr style=\"text-align: right;\">\n",
       "      <th></th>\n",
       "      <th>ID</th>\n",
       "      <th>Building Type</th>\n",
       "      <th>Year of sale</th>\n",
       "      <th>Month of sale</th>\n",
       "      <th>Type of property</th>\n",
       "      <th>Property #</th>\n",
       "      <th>Area (ft.)</th>\n",
       "      <th>Price</th>\n",
       "      <th>Status</th>\n",
       "    </tr>\n",
       "  </thead>\n",
       "  <tbody>\n",
       "    <tr>\n",
       "      <th>0</th>\n",
       "      <td>1030</td>\n",
       "      <td>1</td>\n",
       "      <td>2005.0</td>\n",
       "      <td>11.0</td>\n",
       "      <td>Apartment</td>\n",
       "      <td>30</td>\n",
       "      <td>743.09</td>\n",
       "      <td>246.17268</td>\n",
       "      <td>Sold</td>\n",
       "    </tr>\n",
       "    <tr>\n",
       "      <th>1</th>\n",
       "      <td>1029</td>\n",
       "      <td>1</td>\n",
       "      <td>2005.0</td>\n",
       "      <td>10.0</td>\n",
       "      <td>Apartment</td>\n",
       "      <td>29</td>\n",
       "      <td>756.21</td>\n",
       "      <td>246.33190</td>\n",
       "      <td>Sold</td>\n",
       "    </tr>\n",
       "    <tr>\n",
       "      <th>2</th>\n",
       "      <td>2002</td>\n",
       "      <td>2</td>\n",
       "      <td>2007.0</td>\n",
       "      <td>7.0</td>\n",
       "      <td>Apartment</td>\n",
       "      <td>2</td>\n",
       "      <td>587.28</td>\n",
       "      <td>209.28091</td>\n",
       "      <td>Sold</td>\n",
       "    </tr>\n",
       "    <tr>\n",
       "      <th>3</th>\n",
       "      <td>2031</td>\n",
       "      <td>2</td>\n",
       "      <td>2007.0</td>\n",
       "      <td>12.0</td>\n",
       "      <td>Apartment</td>\n",
       "      <td>31</td>\n",
       "      <td>1604.75</td>\n",
       "      <td>452.66701</td>\n",
       "      <td>Sold</td>\n",
       "    </tr>\n",
       "    <tr>\n",
       "      <th>4</th>\n",
       "      <td>1049</td>\n",
       "      <td>1</td>\n",
       "      <td>2004.0</td>\n",
       "      <td>11.0</td>\n",
       "      <td>Apartment</td>\n",
       "      <td>49</td>\n",
       "      <td>1375.45</td>\n",
       "      <td>467.08331</td>\n",
       "      <td>Sold</td>\n",
       "    </tr>\n",
       "    <tr>\n",
       "      <th>...</th>\n",
       "      <td>...</td>\n",
       "      <td>...</td>\n",
       "      <td>...</td>\n",
       "      <td>...</td>\n",
       "      <td>...</td>\n",
       "      <td>...</td>\n",
       "      <td>...</td>\n",
       "      <td>...</td>\n",
       "      <td>...</td>\n",
       "    </tr>\n",
       "    <tr>\n",
       "      <th>262</th>\n",
       "      <td>5044</td>\n",
       "      <td>5</td>\n",
       "      <td>NaN</td>\n",
       "      <td>NaN</td>\n",
       "      <td>Apartment</td>\n",
       "      <td>44</td>\n",
       "      <td>1238.58</td>\n",
       "      <td>322.61074</td>\n",
       "      <td>Not Sold</td>\n",
       "    </tr>\n",
       "    <tr>\n",
       "      <th>263</th>\n",
       "      <td>5047</td>\n",
       "      <td>5</td>\n",
       "      <td>NaN</td>\n",
       "      <td>NaN</td>\n",
       "      <td>Apartment</td>\n",
       "      <td>47</td>\n",
       "      <td>794.52</td>\n",
       "      <td>279.19126</td>\n",
       "      <td>Not Sold</td>\n",
       "    </tr>\n",
       "    <tr>\n",
       "      <th>264</th>\n",
       "      <td>5048</td>\n",
       "      <td>5</td>\n",
       "      <td>NaN</td>\n",
       "      <td>NaN</td>\n",
       "      <td>Apartment</td>\n",
       "      <td>48</td>\n",
       "      <td>1013.27</td>\n",
       "      <td>287.99653</td>\n",
       "      <td>Not Sold</td>\n",
       "    </tr>\n",
       "    <tr>\n",
       "      <th>265</th>\n",
       "      <td>5050</td>\n",
       "      <td>5</td>\n",
       "      <td>NaN</td>\n",
       "      <td>NaN</td>\n",
       "      <td>Apartment</td>\n",
       "      <td>50</td>\n",
       "      <td>1074.71</td>\n",
       "      <td>365.86878</td>\n",
       "      <td>Not Sold</td>\n",
       "    </tr>\n",
       "    <tr>\n",
       "      <th>266</th>\n",
       "      <td>5051</td>\n",
       "      <td>5</td>\n",
       "      <td>NaN</td>\n",
       "      <td>NaN</td>\n",
       "      <td>Apartment</td>\n",
       "      <td>51</td>\n",
       "      <td>789.25</td>\n",
       "      <td>199.21640</td>\n",
       "      <td>Not Sold</td>\n",
       "    </tr>\n",
       "  </tbody>\n",
       "</table>\n",
       "<p>267 rows × 9 columns</p>\n",
       "</div>"
      ],
      "text/plain": [
       "       ID  Building Type  Year of sale  Month of sale Type of property  \\\n",
       "0    1030              1        2005.0           11.0        Apartment   \n",
       "1    1029              1        2005.0           10.0        Apartment   \n",
       "2    2002              2        2007.0            7.0        Apartment   \n",
       "3    2031              2        2007.0           12.0        Apartment   \n",
       "4    1049              1        2004.0           11.0        Apartment   \n",
       "..    ...            ...           ...            ...              ...   \n",
       "262  5044              5           NaN            NaN        Apartment   \n",
       "263  5047              5           NaN            NaN        Apartment   \n",
       "264  5048              5           NaN            NaN        Apartment   \n",
       "265  5050              5           NaN            NaN        Apartment   \n",
       "266  5051              5           NaN            NaN        Apartment   \n",
       "\n",
       "     Property #  Area (ft.)      Price    Status  \n",
       "0            30      743.09  246.17268     Sold   \n",
       "1            29      756.21  246.33190     Sold   \n",
       "2             2      587.28  209.28091     Sold   \n",
       "3            31     1604.75  452.66701     Sold   \n",
       "4            49     1375.45  467.08331     Sold   \n",
       "..          ...         ...        ...       ...  \n",
       "262          44     1238.58  322.61074  Not Sold  \n",
       "263          47      794.52  279.19126  Not Sold  \n",
       "264          48     1013.27  287.99653  Not Sold  \n",
       "265          50     1074.71  365.86878  Not Sold  \n",
       "266          51      789.25  199.21640  Not Sold  \n",
       "\n",
       "[267 rows x 9 columns]"
      ]
     },
     "execution_count": 21,
     "metadata": {},
     "output_type": "execute_result"
    }
   ],
   "source": [
    "df_real_estate = pd.read_csv(\"scatter_data.csv\")\n",
    "df_real_estate"
   ]
  },
  {
   "cell_type": "markdown",
   "metadata": {},
   "source": [
    "# Input Data: Univariate (1D Series)"
   ]
  },
  {
   "cell_type": "markdown",
   "metadata": {},
   "source": [
    "### a.Histogram"
   ]
  },
  {
   "cell_type": "code",
   "execution_count": 22,
   "metadata": {},
   "outputs": [],
   "source": [
    "df_real_estate = pd.read_csv(\"histogram_data.csv\")"
   ]
  },
  {
   "cell_type": "code",
   "execution_count": 23,
   "metadata": {},
   "outputs": [
    {
     "data": {
      "text/html": [
       "<div>\n",
       "<style scoped>\n",
       "    .dataframe tbody tr th:only-of-type {\n",
       "        vertical-align: middle;\n",
       "    }\n",
       "\n",
       "    .dataframe tbody tr th {\n",
       "        vertical-align: top;\n",
       "    }\n",
       "\n",
       "    .dataframe thead th {\n",
       "        text-align: right;\n",
       "    }\n",
       "</style>\n",
       "<table border=\"1\" class=\"dataframe\">\n",
       "  <thead>\n",
       "    <tr style=\"text-align: right;\">\n",
       "      <th></th>\n",
       "      <th>ID</th>\n",
       "      <th>Building Type</th>\n",
       "      <th>Year of sale</th>\n",
       "      <th>Month of sale</th>\n",
       "      <th>Type of property</th>\n",
       "      <th>Property #</th>\n",
       "      <th>Area (ft.)</th>\n",
       "      <th>Price</th>\n",
       "    </tr>\n",
       "  </thead>\n",
       "  <tbody>\n",
       "    <tr>\n",
       "      <th>0</th>\n",
       "      <td>1030</td>\n",
       "      <td>1</td>\n",
       "      <td>2005.0</td>\n",
       "      <td>11.0</td>\n",
       "      <td>Apartment</td>\n",
       "      <td>30</td>\n",
       "      <td>743.09</td>\n",
       "      <td>246</td>\n",
       "    </tr>\n",
       "    <tr>\n",
       "      <th>1</th>\n",
       "      <td>1029</td>\n",
       "      <td>1</td>\n",
       "      <td>2005.0</td>\n",
       "      <td>10.0</td>\n",
       "      <td>Apartment</td>\n",
       "      <td>29</td>\n",
       "      <td>756.21</td>\n",
       "      <td>246</td>\n",
       "    </tr>\n",
       "    <tr>\n",
       "      <th>2</th>\n",
       "      <td>2002</td>\n",
       "      <td>2</td>\n",
       "      <td>2007.0</td>\n",
       "      <td>7.0</td>\n",
       "      <td>Apartment</td>\n",
       "      <td>2</td>\n",
       "      <td>587.28</td>\n",
       "      <td>209</td>\n",
       "    </tr>\n",
       "    <tr>\n",
       "      <th>3</th>\n",
       "      <td>2031</td>\n",
       "      <td>2</td>\n",
       "      <td>2007.0</td>\n",
       "      <td>12.0</td>\n",
       "      <td>Apartment</td>\n",
       "      <td>31</td>\n",
       "      <td>1604.75</td>\n",
       "      <td>453</td>\n",
       "    </tr>\n",
       "    <tr>\n",
       "      <th>4</th>\n",
       "      <td>1049</td>\n",
       "      <td>1</td>\n",
       "      <td>2004.0</td>\n",
       "      <td>11.0</td>\n",
       "      <td>Apartment</td>\n",
       "      <td>49</td>\n",
       "      <td>1375.45</td>\n",
       "      <td>467</td>\n",
       "    </tr>\n",
       "    <tr>\n",
       "      <th>...</th>\n",
       "      <td>...</td>\n",
       "      <td>...</td>\n",
       "      <td>...</td>\n",
       "      <td>...</td>\n",
       "      <td>...</td>\n",
       "      <td>...</td>\n",
       "      <td>...</td>\n",
       "      <td>...</td>\n",
       "    </tr>\n",
       "    <tr>\n",
       "      <th>262</th>\n",
       "      <td>5044</td>\n",
       "      <td>5</td>\n",
       "      <td>NaN</td>\n",
       "      <td>NaN</td>\n",
       "      <td>Apartment</td>\n",
       "      <td>44</td>\n",
       "      <td>1238.58</td>\n",
       "      <td>323</td>\n",
       "    </tr>\n",
       "    <tr>\n",
       "      <th>263</th>\n",
       "      <td>5047</td>\n",
       "      <td>5</td>\n",
       "      <td>NaN</td>\n",
       "      <td>NaN</td>\n",
       "      <td>Apartment</td>\n",
       "      <td>47</td>\n",
       "      <td>794.52</td>\n",
       "      <td>279</td>\n",
       "    </tr>\n",
       "    <tr>\n",
       "      <th>264</th>\n",
       "      <td>5048</td>\n",
       "      <td>5</td>\n",
       "      <td>NaN</td>\n",
       "      <td>NaN</td>\n",
       "      <td>Apartment</td>\n",
       "      <td>48</td>\n",
       "      <td>1013.27</td>\n",
       "      <td>288</td>\n",
       "    </tr>\n",
       "    <tr>\n",
       "      <th>265</th>\n",
       "      <td>5050</td>\n",
       "      <td>5</td>\n",
       "      <td>NaN</td>\n",
       "      <td>NaN</td>\n",
       "      <td>Apartment</td>\n",
       "      <td>50</td>\n",
       "      <td>1074.71</td>\n",
       "      <td>366</td>\n",
       "    </tr>\n",
       "    <tr>\n",
       "      <th>266</th>\n",
       "      <td>5051</td>\n",
       "      <td>5</td>\n",
       "      <td>NaN</td>\n",
       "      <td>NaN</td>\n",
       "      <td>Apartment</td>\n",
       "      <td>51</td>\n",
       "      <td>789.25</td>\n",
       "      <td>199</td>\n",
       "    </tr>\n",
       "  </tbody>\n",
       "</table>\n",
       "<p>267 rows × 8 columns</p>\n",
       "</div>"
      ],
      "text/plain": [
       "       ID  Building Type  Year of sale  Month of sale Type of property  \\\n",
       "0    1030              1        2005.0           11.0        Apartment   \n",
       "1    1029              1        2005.0           10.0        Apartment   \n",
       "2    2002              2        2007.0            7.0        Apartment   \n",
       "3    2031              2        2007.0           12.0        Apartment   \n",
       "4    1049              1        2004.0           11.0        Apartment   \n",
       "..    ...            ...           ...            ...              ...   \n",
       "262  5044              5           NaN            NaN        Apartment   \n",
       "263  5047              5           NaN            NaN        Apartment   \n",
       "264  5048              5           NaN            NaN        Apartment   \n",
       "265  5050              5           NaN            NaN        Apartment   \n",
       "266  5051              5           NaN            NaN        Apartment   \n",
       "\n",
       "     Property #  Area (ft.)  Price  \n",
       "0            30      743.09    246  \n",
       "1            29      756.21    246  \n",
       "2             2      587.28    209  \n",
       "3            31     1604.75    453  \n",
       "4            49     1375.45    467  \n",
       "..          ...         ...    ...  \n",
       "262          44     1238.58    323  \n",
       "263          47      794.52    279  \n",
       "264          48     1013.27    288  \n",
       "265          50     1074.71    366  \n",
       "266          51      789.25    199  \n",
       "\n",
       "[267 rows x 8 columns]"
      ]
     },
     "execution_count": 23,
     "metadata": {},
     "output_type": "execute_result"
    }
   ],
   "source": [
    "df_real_estate"
   ]
  },
  {
   "cell_type": "code",
   "execution_count": 27,
   "metadata": {
    "scrolled": false
   },
   "outputs": [
    {
     "data": {
      "image/png": "[encoded data removed]",
      "text/plain": [
       "<Figure size 432x288 with 1 Axes>"
      ]
     },
     "metadata": {
      "needs_background": "light"
     },
     "output_type": "display_data"
    }
   ],
   "source": [
    "#sns.set_style(\"white\") # override the default matplotlib style, to avoid the grey background and grid\n",
    "plt.figure(figsize = (6, 4)) # determine the size of the figure\n",
    "\n",
    "plt.hist(df_real_estate[\"Price\"], # the variable on which to create the histogram\n",
    "         bins = 10, # create a histogram with 8 bins\n",
    "         color = \"#108A99\",\n",
    "        edgecolor='w')\n",
    "plt.title(\"Distribution of Real Estate Prices\", fontsize = 14, weight = \"bold\")\n",
    "plt.xlabel(\"Price in (000's $)\")\n",
    "plt.ylabel(\"Number of Properties\")\n",
    "sns.despine() # removes the top and right border of our graph\n",
    "plt.show()"
   ]
  },
  {
   "cell_type": "markdown",
   "metadata": {},
   "source": [
    "### b. BoxPlot"
   ]
  },
  {
   "cell_type": "code",
   "execution_count": 28,
   "metadata": {},
   "outputs": [
    {
     "data": {
      "image/png": "[encoded data removed]",
      "text/plain": [
       "<Figure size 576x288 with 1 Axes>"
      ]
     },
     "metadata": {
      "needs_background": "light"
     },
     "output_type": "display_data"
    }
   ],
   "source": [
    "plt.figure(figsize=(8,4))\n",
    "plt.boxplot(x='Price', data=df_real_estate)\n",
    "plt.title(\"Box plot\") \n",
    "\n",
    "plt.show()"
   ]
  },
  {
   "cell_type": "markdown",
   "metadata": {},
   "source": [
    "# Input Data: Bivariate (2D Series)"
   ]
  },
  {
   "cell_type": "code",
   "execution_count": 30,
   "metadata": {},
   "outputs": [
    {
     "data": {
      "image/png": "[encoded data removed]",
      "text/plain": [
       "<Figure size 432x288 with 1 Axes>"
      ]
     },
     "metadata": {
      "needs_background": "light"
     },
     "output_type": "display_data"
    }
   ],
   "source": [
    "years = [1950, 1960, 1970, 1980, 1990, 2000, 2010]\n",
    "gdp = [300.2, 543.3, 1075.9, 2862.5, 5979.6, 10289.7, 14958.3]\n",
    "\n",
    "\n",
    "# create a line chart, years on x-axis, gdp on y-axis\n",
    "#plt.plot(years, gdp, color='green', marker='x', linestyle='dashed')\n",
    "plt.plot(gdp, years, color='midnightblue', marker='o', linestyle='solid')\n",
    "\n",
    "\n",
    "# add a title\n",
    "plt.title(\"Nominal GDP\")\n",
    "\n",
    "# add a label to the y-axis\n",
    "plt.ylabel(\"Billions of $\")\n",
    "plt.xlabel(\"Year\")\n",
    "\n",
    "plt.show()"
   ]
  },
  {
   "cell_type": "code",
   "execution_count": 31,
   "metadata": {},
   "outputs": [
    {
     "data": {
      "image/png": "[encoded data removed]",
      "text/plain": [
       "<Figure size 648x360 with 1 Axes>"
      ]
     },
     "metadata": {
      "needs_background": "light"
     },
     "output_type": "display_data"
    }
   ],
   "source": [
    "plt.figure(figsize = (9, 5)) \n",
    "\n",
    "scatter = plt.scatter(df_real_estate['Area (ft.)'],\n",
    "            df_real_estate['Price'], \n",
    "            alpha = 0.6, \n",
    "            #c = df_real_estate['Building Type'], \n",
    "            #cmap = 'viridis' \n",
    "                     )\n",
    "\n",
    "plt.title(\"Relationship between Area and Price of California Real Estate\", \n",
    "          fontsize = 14, \n",
    "          weight = \"bold\")\n",
    "plt.xlabel(\"Area (sq. ft.)\", weight = \"bold\")\n",
    "plt.ylabel(\"Price (000's of $)\")\n",
    "plt.show()"
   ]
  },
  {
   "cell_type": "code",
   "execution_count": null,
   "metadata": {},
   "outputs": [],
   "source": []
  }
 ],
 "metadata": {
  "kernelspec": {
   "display_name": "Python 3",
   "language": "python",
   "name": "python3"
  },
  "language_info": {
   "codemirror_mode": {
    "name": "ipython",
    "version": 3
   },
   "file_extension": ".py",
   "mimetype": "text/x-python",
   "name": "python",
   "nbconvert_exporter": "python",
   "pygments_lexer": "ipython3",
   "version": "3.8.8"
  }
 },
 "nbformat": 4,
 "nbformat_minor": 4
}
